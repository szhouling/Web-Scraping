{
 "cells": [
  {
   "cell_type": "code",
   "execution_count": 2,
   "id": "5a8ead97",
   "metadata": {},
   "outputs": [],
   "source": [
    "#!pip install pymongo"
   ]
  },
  {
   "cell_type": "code",
   "execution_count": 3,
   "id": "aa894131",
   "metadata": {},
   "outputs": [],
   "source": [
    "import pymongo\n",
    "import bson"
   ]
  },
  {
   "cell_type": "code",
   "execution_count": 4,
   "id": "21f98ea6",
   "metadata": {},
   "outputs": [],
   "source": [
    "from pymongo import MongoClient\n",
    "\n",
    "# Create a MongoClient to the running MongoDB instance\n",
    "client = pymongo.MongoClient(\"mongodb://localhost:27017/\")\n",
    "\n",
    "# Create a new database\n",
    "db = client['dummyDB'] \n",
    "\n",
    "# Create a new collection\n",
    "collection = db[\"pokimonCollection\"]\n",
    "\n",
    "with open('samples_pokemon.bson', 'rb') as f:\n",
    "    data = bson.decode_all(f.read())  \n",
    "    collection.insert_many(data)  # Insert bson doc into the collection\n"
   ]
  },
  {
   "cell_type": "code",
   "execution_count": 5,
   "id": "78a3ea35",
   "metadata": {},
   "outputs": [],
   "source": [
    "# To find where the 'candy_count' is greater than 100\n",
    "query_result = collection.find({\"candy_count\": {\"$gt\": 100.0}})\n"
   ]
  },
  {
   "cell_type": "code",
   "execution_count": 6,
   "id": "f32bf787",
   "metadata": {},
   "outputs": [
    {
     "name": "stdout",
     "output_type": "stream",
     "text": [
      "{'_id': ObjectId('58f56171ee9d4bd5e610d6c4'), 'id': 129.0, 'num': '129', 'name': 'Magikarp', 'img': 'http://www.serebii.net/pokemongo/pokemon/129.png', 'type': ['Water'], 'height': '0.89 m', 'weight': '10.0 kg', 'candy': 'Magikarp Candy', 'candy_count': 400.0, 'egg': '2 km', 'spawn_chance': 4.78, 'avg_spawns': 478.0, 'spawn_time': '14:26', 'multipliers': [10.1, 11.8], 'weaknesses': ['Electric', 'Grass'], 'next_evolution': [{'num': '130', 'name': 'Gyarados'}]}\n"
     ]
    }
   ],
   "source": [
    "for document in query_result:\n",
    "    print(document)"
   ]
  },
  {
   "cell_type": "code",
   "execution_count": 7,
   "id": "ebec962d",
   "metadata": {},
   "outputs": [],
   "source": [
    "client.close()"
   ]
  },
  {
   "cell_type": "code",
   "execution_count": null,
   "id": "cf49a9d1",
   "metadata": {},
   "outputs": [],
   "source": []
  }
 ],
 "metadata": {
  "kernelspec": {
   "display_name": "Python 3 (ipykernel)",
   "language": "python",
   "name": "python3"
  },
  "language_info": {
   "codemirror_mode": {
    "name": "ipython",
    "version": 3
   },
   "file_extension": ".py",
   "mimetype": "text/x-python",
   "name": "python",
   "nbconvert_exporter": "python",
   "pygments_lexer": "ipython3",
   "version": "3.11.5"
  }
 },
 "nbformat": 4,
 "nbformat_minor": 5
}
