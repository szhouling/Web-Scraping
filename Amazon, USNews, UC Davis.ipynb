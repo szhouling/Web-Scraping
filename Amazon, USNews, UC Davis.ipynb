{
 "cells": [
  {
   "cell_type": "markdown",
   "id": "7d26d603",
   "metadata": {},
   "source": [
    "## 1. Select and print to screen the content of the blue \"Your Community\" section on https://gsm.ucdavis.edu/master-science-business-analytics-msba  Use RegEx to make the text output look pretty."
   ]
  },
  {
   "cell_type": "code",
   "execution_count": 1,
   "id": "eaba9b19",
   "metadata": {},
   "outputs": [],
   "source": [
    "from bs4 import BeautifulSoup\n",
    "import requests\n",
    "\n",
    "url = 'https://gsm.ucdavis.edu/master-science-business-analytics-msba'\n",
    "page = requests.get(url)\n",
    "\n",
    "# packages needed\n",
    "soup = BeautifulSoup(page.text, 'html.parser')\n",
    "\n",
    "# find that specific div class for your community\n",
    "list_of_elements = soup.find('div', class_='py-3 solid-blue-bkg text-white')\n",
    "\n",
    "\n",
    "import re\n",
    "# regex: to find the line of h2 and p, capture the text in the ()\n",
    "pattern = re.compile(r'<[hp][^>]+>([^<]+)')\n",
    "\n",
    "matches = pattern.findall(str(list_of_elements))\n",
    "\n",
    "# format the output\n",
    "for i in range(0, len(matches), 2):\n",
    "    title = matches[i]\n",
    "    value = matches[i+1]\n",
    "    print(f\"{title}: {value}\")"
   ]
  },
  {
   "cell_type": "markdown",
   "id": "5fc4d980",
   "metadata": {},
   "source": [
    "## 2. Web scrapes the Amazon page  https://www.amazon.com/dp/B07CT6DYFG  and prints its title and price to screen.\n"
   ]
  },
  {
   "cell_type": "code",
   "execution_count": 2,
   "id": "faafd83a",
   "metadata": {},
   "outputs": [
    {
     "name": "stdout",
     "output_type": "stream",
     "text": [
      "The product name is: Katamco The Original Toilet Timer (Classic), As Seen on Shark Tank. Funny Gift for Men, Husband, Dad, Son, Birthday, Christmas, Stocking Stuffer.\n",
      "The product price is: $14.99\n"
     ]
    }
   ],
   "source": [
    "url_amazon = 'https://www.amazon.com/dp/B07CT6DYFG'\n",
    "page_amazon = requests.get(url_amazon)\n",
    "soup_amazon = BeautifulSoup(page_amazon.text, 'html.parser')\n",
    "\n",
    "# find that specific h1 for product title\n",
    "title = soup_amazon.find('h1', class_='a-size-large a-spacing-none')\n",
    "\n",
    "print(\"The product name is:\", title.get_text(strip=True))\n",
    "\n",
    "# find that specific span for product price\n",
    "price_span = soup_amazon.find('span', class_='a-offscreen')\n",
    "price = price_span.get_text()\n",
    "print(\"The product price is:\", price)"
   ]
  },
  {
   "cell_type": "markdown",
   "id": "94f595fb",
   "metadata": {},
   "source": [
    "## 3. Loads the page  https://www.usnews.com/  and prints to screen the title of the current #1 top story (i.e., the title of the first title in \"Top Stories\")"
   ]
  },
  {
   "cell_type": "code",
   "execution_count": 3,
   "id": "960dee34",
   "metadata": {},
   "outputs": [
    {
     "name": "stdout",
     "output_type": "stream",
     "text": [
      "6 Takeaways From New Hampshire\n"
     ]
    }
   ],
   "source": [
    "page_news = requests.get('https://www.usnews.com/', headers={'User-Agent': 'Mozilla/5.0'})\n",
    "soup_news = BeautifulSoup(page_news.text, 'html.parser')\n",
    "\n",
    "# find that specific div\n",
    "div_element = soup_news.find('div', class_= 'Box-w0dun1-0 ContentBox__Container-sc-1egb8dt-0 iZCosX lmOexQ ArmRestTopStories__CollapseBorderContentBox-s0vo7p-2 fTDCpH ArmRestTopStories__CollapseBorderContentBox-s0vo7p-2 fTDCpH')\n",
    "# print(div_element.prettify())\n",
    "\n",
    "# there is only 1 a<href>, inside the () is the capture\n",
    "pattern_news = re.compile(r'<a href[^>]+>([^<]+)')\n",
    "matches_news = pattern_news.findall(str(div_element))\n",
    "\n",
    "for match in matches_news:\n",
    "    print(match)"
   ]
  },
  {
   "cell_type": "code",
   "execution_count": null,
   "id": "81631c2f",
   "metadata": {},
   "outputs": [],
   "source": []
  }
 ],
 "metadata": {
  "kernelspec": {
   "display_name": "Python 3 (ipykernel)",
   "language": "python",
   "name": "python3"
  },
  "language_info": {
   "codemirror_mode": {
    "name": "ipython",
    "version": 3
   },
   "file_extension": ".py",
   "mimetype": "text/x-python",
   "name": "python",
   "nbconvert_exporter": "python",
   "pygments_lexer": "ipython3",
   "version": "3.11.5"
  }
 },
 "nbformat": 4,
 "nbformat_minor": 5
}
