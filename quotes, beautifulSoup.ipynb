{
 "cells": [
  {
   "cell_type": "markdown",
   "id": "5c99981d",
   "metadata": {},
   "source": [
    "## Load the page \"https://quotes.toscrape.com/\" and select the fourth \"Top Ten tag\".  Extract the link's href to screen."
   ]
  },
  {
   "cell_type": "code",
   "execution_count": 1,
   "id": "4404b4ce",
   "metadata": {},
   "outputs": [
    {
     "name": "stdout",
     "output_type": "stream",
     "text": [
      "/tag/humor/\n"
     ]
    }
   ],
   "source": [
    "from bs4 import BeautifulSoup\n",
    "import requests\n",
    "import time\n",
    "\n",
    "url = 'https://quotes.toscrape.com/'\n",
    "page = requests.get(url)\n",
    "\n",
    "# packages needed\n",
    "soup = BeautifulSoup(page.text, 'html.parser')\n",
    "\n",
    "# find that specific div class for top ten\n",
    "tags_box = soup.find('div', class_='col-md-4 tags-box')\n",
    "\n",
    "# print the 4th link\n",
    "tags = tags_box.find_all('a', class_='tag')\n",
    "print(tags[3]['href'])"
   ]
  },
  {
   "cell_type": "markdown",
   "id": "9ba8b908",
   "metadata": {},
   "source": [
    "##  Add the domain name (\"http://quotes.toscrape.com/\") to the front of it to make it a complete URL.\n",
    "\n"
   ]
  },
  {
   "cell_type": "code",
   "execution_count": 2,
   "id": "bcaee1b4",
   "metadata": {},
   "outputs": [
    {
     "name": "stdout",
     "output_type": "stream",
     "text": [
      "https://quotes.toscrape.com//tag/humor/\n"
     ]
    }
   ],
   "source": [
    "base_url = \"http://quotes.toscrape.com\"\n",
    "tag4_full_url = url + tags[3]['href']\n",
    "print(tag4_full_url)"
   ]
  },
  {
   "cell_type": "code",
   "execution_count": 3,
   "id": "28cc0e7a",
   "metadata": {},
   "outputs": [
    {
     "name": "stdout",
     "output_type": "stream",
     "text": [
      "https://quotes.toscrape.com//tag/humor/\n"
     ]
    }
   ],
   "source": [
    "from bs4 import BeautifulSoup\n",
    "import requests\n",
    "import time\n",
    "\n",
    "url = 'https://quotes.toscrape.com/'\n",
    "page = requests.get(url)\n",
    "\n",
    "# packages needed\n",
    "soup = BeautifulSoup(page.text, 'html.parser')\n",
    "\n",
    "# find that specific div class for top ten\n",
    "tags_box = soup.find('div', class_='col-md-4 tags-box')\n",
    "\n",
    "tags = tags_box.find_all('a', class_='tag')\n",
    "\n",
    "base_url = \"http://quotes.toscrape.com\"\n",
    "tag4_full_url = url + tags[3]['href']\n",
    "print(tag4_full_url)\n",
    "\n",
    "time.sleep(10)\n",
    "\n",
    "# make the next request to the full URL\n",
    "next_page = requests.get(tag4_full_url)"
   ]
  },
  {
   "cell_type": "markdown",
   "id": "ef68c400",
   "metadata": {},
   "source": [
    "## Select all quotes (including their author)"
   ]
  },
  {
   "cell_type": "code",
   "execution_count": 4,
   "id": "5896e8a5",
   "metadata": {},
   "outputs": [
    {
     "name": "stdout",
     "output_type": "stream",
     "text": [
      "Quote: “The person, be it gentleman or lady, who has not pleasure in a good novel, must be intolerably stupid.”\n",
      "Author: Jane Austen\n",
      "\n",
      "Quote: “A day without sunshine is like, you know, night.”\n",
      "Author: Steve Martin\n",
      "\n",
      "Quote: “Anyone who thinks sitting in church can make you a Christian must also think that sitting in a garage can make you a car.”\n",
      "Author: Garrison Keillor\n",
      "\n",
      "Quote: “Beauty is in the eye of the beholder and it may be necessary from time to time to give a stupid or misinformed beholder a black eye.”\n",
      "Author: Jim Henson\n",
      "\n",
      "Quote: “All you need is love. But a little chocolate now and then doesn't hurt.”\n",
      "Author: Charles M. Schulz\n",
      "\n",
      "Quote: “Remember, we're madly in love, so it's all right to kiss me anytime you feel like it.”\n",
      "Author: Suzanne Collins\n",
      "\n",
      "Quote: “Some people never go crazy. What truly horrible lives they must lead.”\n",
      "Author: Charles Bukowski\n",
      "\n",
      "Quote: “The trouble with having an open mind, of course, is that people will insist on coming along and trying to put things in it.”\n",
      "Author: Terry Pratchett\n",
      "\n",
      "Quote: “Think left and think right and think low and think high. Oh, the thinks you can think up if only you try!”\n",
      "Author: Dr. Seuss\n",
      "\n",
      "Quote: “The reason I talk to myself is because I’m the only one whose answers I accept.”\n",
      "Author: George Carlin\n",
      "\n"
     ]
    }
   ],
   "source": [
    "next_page_soup = BeautifulSoup(next_page.text, 'html.parser')\n",
    "# All quotes in the \"quote\" div\n",
    "quotes = next_page_soup.find_all('div', class_='quote')\n",
    "\n",
    "# print each quote and author\n",
    "for quote in quotes:\n",
    "    text = quote.find('span', class_='text').get_text()\n",
    "    author = quote.find('small', class_='author').get_text()\n",
    "    print(f\"Quote: {text}\\nAuthor: {author}\\n\")"
   ]
  },
  {
   "cell_type": "markdown",
   "id": "03d3055f",
   "metadata": {},
   "source": [
    "## Use a loop and text manipulation (RegEx) to print to screen all quotes in the following format (example):\n",
    "\n",
    "Jane Austen: “The person, be it gentleman or lady, who has not pleasure in a good novel, must be intolerably stupid.”"
   ]
  },
  {
   "cell_type": "code",
   "execution_count": 5,
   "id": "30a02953",
   "metadata": {
    "scrolled": false
   },
   "outputs": [
    {
     "name": "stdout",
     "output_type": "stream",
     "text": [
      "Jane Austen : “The person, be it gentleman or lady, who has not pleasure in a good novel, must be intolerably stupid.”\n",
      "\n",
      "Steve Martin : “A day without sunshine is like, you know, night.”\n",
      "\n",
      "Garrison Keillor : “Anyone who thinks sitting in church can make you a Christian must also think that sitting in a garage can make you a car.”\n",
      "\n",
      "Jim Henson : “Beauty is in the eye of the beholder and it may be necessary from time to time to give a stupid or misinformed beholder a black eye.”\n",
      "\n",
      "Charles M. Schulz : “All you need is love. But a little chocolate now and then doesn't hurt.”\n",
      "\n",
      "Suzanne Collins : “Remember, we're madly in love, so it's all right to kiss me anytime you feel like it.”\n",
      "\n",
      "Charles Bukowski : “Some people never go crazy. What truly horrible lives they must lead.”\n",
      "\n",
      "Terry Pratchett : “The trouble with having an open mind, of course, is that people will insist on coming along and trying to put things in it.”\n",
      "\n",
      "Dr. Seuss : “Think left and think right and think low and think high. Oh, the thinks you can think up if only you try!”\n",
      "\n",
      "George Carlin : “The reason I talk to myself is because I’m the only one whose answers I accept.”\n",
      "\n"
     ]
    }
   ],
   "source": [
    "import re\n",
    "soup_next_page = BeautifulSoup(next_page.text, 'html.parser')\n",
    "\n",
    "all_col_md_8_divs = soup_next_page.find_all('div', class_='col-md-8')\n",
    "\n",
    "# Select the second 'col-md-8' div\n",
    "second_col_md_8_div = all_col_md_8_divs[1]\n",
    "# find all quotes buket for in the second 'col-md-8' div\n",
    "quote_divs = second_col_md_8_div.find_all('div', class_='quote')\n",
    "\n",
    "all_texts = []\n",
    "all_authors = []\n",
    "for quote_div in quote_divs:\n",
    "    # find the pattern for author\n",
    "    pattern_author = re.findall(r'small class[^>]+>([^<]+)', str(quote_div))\n",
    "    all_authors.extend(pattern_author)\n",
    "    \n",
    "    # find the quote\n",
    "    text_spans = quote_div.find_all('span', class_='text')\n",
    "    all_texts.extend(text_spans)\n",
    "\n",
    "# print all authors and qutoes in format\n",
    "for text_span, author in zip(all_texts, all_authors):\n",
    "    print(author, \":\", text_span.get_text())\n",
    "    print()"
   ]
  },
  {
   "cell_type": "markdown",
   "id": "55ad2183",
   "metadata": {},
   "source": [
    " ## Select \"Next →\", extract it's linked URL, and follow the full URL.  Add a delay (time.sleep) of 10 seconds before executing this third page request."
   ]
  },
  {
   "cell_type": "code",
   "execution_count": 6,
   "id": "9f2e9872",
   "metadata": {},
   "outputs": [
    {
     "name": "stdout",
     "output_type": "stream",
     "text": [
      "http://quotes.toscrape.com/tag/humor/page/2/\n"
     ]
    }
   ],
   "source": [
    "time.sleep(10)\n",
    "import re\n",
    "\n",
    "next_pages = soup_next_page.find_all('ul', class_='pager')\n",
    "\n",
    "next_page_links = next_pages[0].find_all('a')\n",
    "link_href = next_page_links[0]['href']\n",
    "\n",
    "full_next_page_url = base_url + link_href\n",
    "print(full_next_page_url)\n",
    "next_page_response = requests.get(full_next_page_url)\n",
    "\n"
   ]
  },
  {
   "cell_type": "markdown",
   "id": "00a92411",
   "metadata": {},
   "source": [
    "## Print all quotes of the resulting page"
   ]
  },
  {
   "cell_type": "code",
   "execution_count": 7,
   "id": "ef5f109d",
   "metadata": {},
   "outputs": [
    {
     "name": "stdout",
     "output_type": "stream",
     "text": [
      "W.C. Fields : “I am free of all prejudice. I hate everyone equally. ”\n",
      "\n",
      "Jane Austen : “A lady's imagination is very rapid; it jumps from admiration to love, from love to matrimony in a moment.”\n",
      "\n"
     ]
    }
   ],
   "source": [
    "import re\n",
    "next_next = BeautifulSoup(next_page_response.text, 'html.parser')\n",
    "next_col_md_8_divs = next_next.find_all('div', class_='col-md-8')\n",
    "\n",
    "# Select the second 'col-md-8' div\n",
    "next2_col_md_8_div = next_col_md_8_divs[1]\n",
    "# find all quotes buket for in the second 'col-md-8' div\n",
    "quote_divs2 = next2_col_md_8_div.find_all('div', class_='quote')\n",
    "# for i in quote_divs2:\n",
    "#     print(quote_divs2)\n",
    "\n",
    "all_texts2 = []\n",
    "all_authors2 = []\n",
    "for quote_div in quote_divs2:\n",
    "    # find the pattern for author\n",
    "    pattern_author = re.findall(r'small class[^>]+>([^<]+)', str(quote_div))\n",
    "    all_authors2.extend(pattern_author)\n",
    "    \n",
    "    # find the quote\n",
    "    text_spans = quote_div.find_all('span', class_='text')\n",
    "    all_texts2.extend(text_spans)\n",
    "\n",
    "# print all authors and qutoes in format\n",
    "for text_span, author in zip(all_texts2, all_authors2):\n",
    "    print(author, \":\", text_span.get_text())\n",
    "    print()\n"
   ]
  },
  {
   "cell_type": "code",
   "execution_count": null,
   "id": "0742467e",
   "metadata": {},
   "outputs": [],
   "source": []
  }
 ],
 "metadata": {
  "kernelspec": {
   "display_name": "Python 3 (ipykernel)",
   "language": "python",
   "name": "python3"
  },
  "language_info": {
   "codemirror_mode": {
    "name": "ipython",
    "version": 3
   },
   "file_extension": ".py",
   "mimetype": "text/x-python",
   "name": "python",
   "nbconvert_exporter": "python",
   "pygments_lexer": "ipython3",
   "version": "3.11.5"
  }
 },
 "nbformat": 4,
 "nbformat_minor": 5
}
